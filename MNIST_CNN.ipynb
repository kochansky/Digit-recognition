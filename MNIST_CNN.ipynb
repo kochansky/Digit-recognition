{
 "cells": [
  {
   "cell_type": "markdown",
   "metadata": {},
   "source": [
    "# Hand-written Digit Recognition usin Convolutional Neural Networks in Keras"
   ]
  },
  {
   "cell_type": "markdown",
   "metadata": {},
   "source": [
    "In this notebook we will create a simple, but efficient ConvNet to achive nice result on digit recognition problem. For this purpose, we will use well-known [MNIST](http://yann.lecun.com/exdb/mnist/) database developed by Yann LeCun, Corinna Cortes and Christopher Burges."
   ]
  },
  {
   "cell_type": "code",
   "execution_count": 1,
   "metadata": {},
   "outputs": [
    {
     "name": "stderr",
     "output_type": "stream",
     "text": [
      "Using TensorFlow backend.\n"
     ]
    }
   ],
   "source": [
    "#import libraries, they are compatible with Keras 2.08\n",
    "import pandas as pd\n",
    "import numpy as np\n",
    "import matplotlib.pyplot as plt\n",
    "import matplotlib.image as mpimg\n",
    "import seaborn as sns\n",
    "%matplotlib inline\n",
    "\n",
    "np.random.seed(211)\n",
    "\n",
    "from sklearn.model_selection import train_test_split\n",
    "\n",
    "from keras.utils.np_utils import to_categorical # convert to one-hot-encoding\n",
    "from keras.models import Sequential\n",
    "from keras.layers import Dense, Dropout, Flatten, Conv2D, MaxPool2D\n",
    "from keras.callbacks import ReduceLROnPlateau\n",
    "\n",
    "\n",
    "sns.set(style='white', context='notebook', palette='deep')"
   ]
  },
  {
   "cell_type": "markdown",
   "metadata": {},
   "source": [
    "There are many different ways to capture MNIST data. I created this model for [Kaggle competition](https://www.kaggle.com/c/digit-recognizer/data), so this is my source of data. To ensure consistency, I suggest you download the same. "
   ]
  },
  {
   "cell_type": "code",
   "execution_count": 2,
   "metadata": {},
   "outputs": [],
   "source": [
    "#load the data\n",
    "train = pd.read_csv(\"train.csv\")\n",
    "test = pd.read_csv(\"test.csv\")"
   ]
  },
  {
   "cell_type": "code",
   "execution_count": 3,
   "metadata": {
    "collapsed": true
   },
   "outputs": [],
   "source": [
    "# assign the target to Y_train and leave features in X_train\n",
    "Y_train = train['label']\n",
    "X_train = train.drop('label', axis = 1)"
   ]
  },
  {
   "cell_type": "markdown",
   "metadata": {},
   "source": [
    "## Data wrangling"
   ]
  },
  {
   "cell_type": "markdown",
   "metadata": {},
   "source": [
    "We may expect that our target has uniform (regular) distribution, so let's prove this by creating an appropriate plot. To be ready for modelling, a few actions have to follow:\n",
    "\n",
    "1. Normalize images (divide them by the number of pixel intensity)\n",
    "1. Reshape variables containing features using following pattern: (-1 [Keras will automatically adjust this number to match remaining ones], image_height, image_width, colour_scale[1 for grey images and 3 for RGB]\n",
    "1. Convert categorical data using one-hot encode \n",
    "1. Split the train data "
   ]
  },
  {
   "cell_type": "code",
   "execution_count": 4,
   "metadata": {},
   "outputs": [
    {
     "data": {
      "text/plain": [
       "1    4684\n",
       "7    4401\n",
       "3    4351\n",
       "9    4188\n",
       "2    4177\n",
       "6    4137\n",
       "0    4132\n",
       "4    4072\n",
       "8    4063\n",
       "5    3795\n",
       "Name: label, dtype: int64"
      ]
     },
     "execution_count": 4,
     "metadata": {},
     "output_type": "execute_result"
    },
    {
     "data": {
      "image/png": "[encoded data removed]",
      "text/plain": [
       "<matplotlib.figure.Figure at 0x252864ff1d0>"
      ]
     },
     "metadata": {},
     "output_type": "display_data"
    }
   ],
   "source": [
    "# plot the distribution of target variable\n",
    "g = sns.countplot(Y_train)\n",
    "Y_train.value_counts()"
   ]
  },
  {
   "cell_type": "code",
   "execution_count": 5,
   "metadata": {},
   "outputs": [
    {
     "data": {
      "text/plain": [
       "count       784\n",
       "unique        1\n",
       "top       False\n",
       "freq        784\n",
       "dtype: object"
      ]
     },
     "execution_count": 5,
     "metadata": {},
     "output_type": "execute_result"
    }
   ],
   "source": [
    "# make sure there is no missing pixels\n",
    "X_train.isnull().any().describe()"
   ]
  },
  {
   "cell_type": "code",
   "execution_count": 6,
   "metadata": {
    "collapsed": true
   },
   "outputs": [],
   "source": [
    "#normalize\n",
    "X_train = X_train / 255\n",
    "test = test / 255"
   ]
  },
  {
   "cell_type": "code",
   "execution_count": 7,
   "metadata": {
    "collapsed": true
   },
   "outputs": [],
   "source": [
    "#reshape\n",
    "X_train = X_train.values.reshape(-1,28,28,1)\n",
    "test = test.values.reshape(-1,28,28,1)"
   ]
  },
  {
   "cell_type": "code",
   "execution_count": 8,
   "metadata": {
    "collapsed": true
   },
   "outputs": [],
   "source": [
    "#one-hot encoding\n",
    "Y_train = to_categorical(Y_train)"
   ]
  },
  {
   "cell_type": "code",
   "execution_count": 9,
   "metadata": {
    "collapsed": true
   },
   "outputs": [],
   "source": [
    "#split the train and validations sets\n",
    "X_train, X_val, Y_train, Y_val = train_test_split(X_train, Y_train, test_size=0.1, random_state=111)"
   ]
  },
  {
   "cell_type": "code",
   "execution_count": 10,
   "metadata": {},
   "outputs": [
    {
     "data": {
      "text/plain": [
       "<matplotlib.image.AxesImage at 0x2528559ccf8>"
      ]
     },
     "execution_count": 10,
     "metadata": {},
     "output_type": "execute_result"
    },
    {
     "data": {
      "image/png": "[encoded data removed]",
      "text/plain": [
       "<matplotlib.figure.Figure at 0x25286443da0>"
      ]
     },
     "metadata": {},
     "output_type": "display_data"
    }
   ],
   "source": [
    "# sample picture\n",
    "plt.imshow(X_train[8][:,:,0], cmap='Greys')"
   ]
  },
  {
   "cell_type": "markdown",
   "metadata": {},
   "source": [
    "## ConvNet model"
   ]
  },
  {
   "cell_type": "markdown",
   "metadata": {},
   "source": [
    "Once the data has been prepared, it's time for make use of Keras and create a model. Let's implement the following design: \n",
    "$ (Conv2D -> Conv2D -> MaxPooling -> Dropout) x 2 -> Flatten -> Fully Connected Layer -> Dropout -> SoftMax $"
   ]
  },
  {
   "cell_type": "code",
   "execution_count": 11,
   "metadata": {
    "collapsed": true
   },
   "outputs": [],
   "source": [
    "model = Sequential()\n",
    "model.add(Conv2D(32, (5,5), activation='relu', padding='same', input_shape=(28,28,1)))\n",
    "model.add(Conv2D(32, (5,5), activation='relu', padding='same'))\n",
    "model.add(MaxPool2D())\n",
    "model.add(Dropout(0.25))\n",
    "model.add(Conv2D(64, (3,3), activation='relu', padding='same'))\n",
    "model.add(Conv2D(64, (3,3), activation='relu', padding='same'))\n",
    "model.add(MaxPool2D(strides=(2,2)))\n",
    "model.add(Dropout(0.25))\n",
    "model.add(Flatten())\n",
    "model.add(Dense(256, activation='relu'))\n",
    "model.add(Dropout(0.5))\n",
    "model.add(Dense(10, activation='softmax'))"
   ]
  },
  {
   "cell_type": "markdown",
   "metadata": {},
   "source": [
    "Our model needs to be compiled now. 'Categorical crossentropy' loss function works perfectly for classification problems with more that two outcomes. 'RMSprop' optimizer allows to minimize the cost function efficiently. Other optimizer being commonly used, 'Adam', will work fine too."
   ]
  },
  {
   "cell_type": "code",
   "execution_count": 12,
   "metadata": {
    "collapsed": true
   },
   "outputs": [],
   "source": [
    "model.compile(loss=\"categorical_crossentropy\", optimizer = 'RMSprop', metrics = ['accuracy'])"
   ]
  },
  {
   "cell_type": "markdown",
   "metadata": {},
   "source": [
    "Let our learning rate decrease to prevent plateauing."
   ]
  },
  {
   "cell_type": "code",
   "execution_count": 13,
   "metadata": {
    "collapsed": true
   },
   "outputs": [],
   "source": [
    "#set learning rate annealer\n",
    "learning_rate_reduction = ReduceLROnPlateau(monitor='val_acc', patience=3, verbose=1, factor=0.5, min_lr=0.00001)"
   ]
  },
  {
   "cell_type": "markdown",
   "metadata": {},
   "source": [
    "Running through 50 epochs will lead to decent results. Each epoc requires about 25s of processing time on my GPU (CUDA compute capability score = 5). "
   ]
  },
  {
   "cell_type": "code",
   "execution_count": 14,
   "metadata": {
    "collapsed": true
   },
   "outputs": [],
   "source": [
    "# set the number of epochs and the batch_size\n",
    "epochs = 50\n",
    "batch_size = 200"
   ]
  },
  {
   "cell_type": "code",
   "execution_count": 15,
   "metadata": {},
   "outputs": [
    {
     "name": "stdout",
     "output_type": "stream",
     "text": [
      "Train on 37800 samples, validate on 4200 samples\n",
      "Epoch 1/50\n",
      "27s - loss: 0.3312 - acc: 0.8942 - val_loss: 0.0775 - val_acc: 0.9731\n",
      "Epoch 2/50\n",
      "25s - loss: 0.0857 - acc: 0.9735 - val_loss: 0.0543 - val_acc: 0.9831\n",
      "Epoch 3/50\n",
      "25s - loss: 0.0614 - acc: 0.9816 - val_loss: 0.0446 - val_acc: 0.9871\n",
      "Epoch 4/50\n",
      "25s - loss: 0.0491 - acc: 0.9847 - val_loss: 0.0371 - val_acc: 0.9881\n",
      "Epoch 5/50\n",
      "25s - loss: 0.0404 - acc: 0.9876 - val_loss: 0.0415 - val_acc: 0.9883\n",
      "Epoch 6/50\n",
      "25s - loss: 0.0346 - acc: 0.9890 - val_loss: 0.0327 - val_acc: 0.9914\n",
      "Epoch 7/50\n",
      "25s - loss: 0.0306 - acc: 0.9905 - val_loss: 0.0291 - val_acc: 0.9907\n",
      "Epoch 8/50\n",
      "25s - loss: 0.0284 - acc: 0.9912 - val_loss: 0.0317 - val_acc: 0.9898\n",
      "Epoch 9/50\n",
      "25s - loss: 0.0250 - acc: 0.9920 - val_loss: 0.0307 - val_acc: 0.9931\n",
      "Epoch 10/50\n",
      "25s - loss: 0.0219 - acc: 0.9929 - val_loss: 0.0304 - val_acc: 0.9940\n",
      "Epoch 11/50\n",
      "25s - loss: 0.0232 - acc: 0.9926 - val_loss: 0.0297 - val_acc: 0.9933\n",
      "Epoch 12/50\n",
      "25s - loss: 0.0200 - acc: 0.9943 - val_loss: 0.0289 - val_acc: 0.9924\n",
      "Epoch 13/50\n",
      "25s - loss: 0.0202 - acc: 0.9934 - val_loss: 0.0271 - val_acc: 0.9936\n",
      "Epoch 14/50\n",
      "\n",
      "Epoch 00013: reducing learning rate to 0.0005000000237487257.\n",
      "25s - loss: 0.0169 - acc: 0.9948 - val_loss: 0.0265 - val_acc: 0.9936\n",
      "Epoch 15/50\n",
      "25s - loss: 0.0107 - acc: 0.9965 - val_loss: 0.0270 - val_acc: 0.9948\n",
      "Epoch 16/50\n",
      "25s - loss: 0.0097 - acc: 0.9968 - val_loss: 0.0288 - val_acc: 0.9940\n",
      "Epoch 17/50\n",
      "25s - loss: 0.0093 - acc: 0.9968 - val_loss: 0.0262 - val_acc: 0.9950\n",
      "Epoch 18/50\n",
      "25s - loss: 0.0086 - acc: 0.9971 - val_loss: 0.0272 - val_acc: 0.9940\n",
      "Epoch 19/50\n",
      "25s - loss: 0.0086 - acc: 0.9971 - val_loss: 0.0288 - val_acc: 0.9943\n",
      "Epoch 20/50\n",
      "25s - loss: 0.0079 - acc: 0.9978 - val_loss: 0.0313 - val_acc: 0.9943\n",
      "Epoch 21/50\n",
      "\n",
      "Epoch 00020: reducing learning rate to 0.0002500000118743628.\n",
      "25s - loss: 0.0074 - acc: 0.9976 - val_loss: 0.0295 - val_acc: 0.9945\n",
      "Epoch 22/50\n",
      "25s - loss: 0.0056 - acc: 0.9980 - val_loss: 0.0289 - val_acc: 0.9948\n",
      "Epoch 23/50\n",
      "25s - loss: 0.0052 - acc: 0.9983 - val_loss: 0.0297 - val_acc: 0.9948\n",
      "Epoch 24/50\n",
      "\n",
      "Epoch 00023: reducing learning rate to 0.0001250000059371814.\n",
      "25s - loss: 0.0041 - acc: 0.9987 - val_loss: 0.0322 - val_acc: 0.9940\n",
      "Epoch 25/50\n",
      "25s - loss: 0.0046 - acc: 0.9986 - val_loss: 0.0294 - val_acc: 0.9945\n",
      "Epoch 26/50\n",
      "25s - loss: 0.0047 - acc: 0.9986 - val_loss: 0.0291 - val_acc: 0.9952\n",
      "Epoch 27/50\n",
      "25s - loss: 0.0032 - acc: 0.9990 - val_loss: 0.0309 - val_acc: 0.9955\n",
      "Epoch 28/50\n",
      "25s - loss: 0.0030 - acc: 0.9990 - val_loss: 0.0312 - val_acc: 0.9952\n",
      "Epoch 29/50\n",
      "25s - loss: 0.0037 - acc: 0.9988 - val_loss: 0.0303 - val_acc: 0.9955\n",
      "Epoch 30/50\n",
      "25s - loss: 0.0038 - acc: 0.9990 - val_loss: 0.0286 - val_acc: 0.9957\n",
      "Epoch 31/50\n",
      "25s - loss: 0.0033 - acc: 0.9990 - val_loss: 0.0310 - val_acc: 0.9957\n",
      "Epoch 32/50\n",
      "25s - loss: 0.0036 - acc: 0.9988 - val_loss: 0.0286 - val_acc: 0.9962\n",
      "Epoch 33/50\n",
      "25s - loss: 0.0034 - acc: 0.9988 - val_loss: 0.0287 - val_acc: 0.9960\n",
      "Epoch 34/50\n",
      "25s - loss: 0.0041 - acc: 0.9986 - val_loss: 0.0330 - val_acc: 0.9945\n",
      "Epoch 35/50\n",
      "25s - loss: 0.0026 - acc: 0.9993 - val_loss: 0.0313 - val_acc: 0.9955\n",
      "Epoch 36/50\n",
      "\n",
      "Epoch 00035: reducing learning rate to 6.25000029685907e-05.\n",
      "25s - loss: 0.0035 - acc: 0.9990 - val_loss: 0.0291 - val_acc: 0.9962\n",
      "Epoch 37/50\n",
      "25s - loss: 0.0029 - acc: 0.9991 - val_loss: 0.0286 - val_acc: 0.9962\n",
      "Epoch 38/50\n",
      "25s - loss: 0.0032 - acc: 0.9990 - val_loss: 0.0291 - val_acc: 0.9957\n",
      "Epoch 39/50\n",
      "\n",
      "Epoch 00038: reducing learning rate to 3.125000148429535e-05.\n",
      "25s - loss: 0.0028 - acc: 0.9993 - val_loss: 0.0300 - val_acc: 0.9957\n",
      "Epoch 40/50\n",
      "25s - loss: 0.0030 - acc: 0.9992 - val_loss: 0.0314 - val_acc: 0.9957\n",
      "Epoch 41/50\n",
      "25s - loss: 0.0035 - acc: 0.9989 - val_loss: 0.0298 - val_acc: 0.9960\n",
      "Epoch 42/50\n",
      "\n",
      "Epoch 00041: reducing learning rate to 1.5625000742147677e-05.\n",
      "25s - loss: 0.0032 - acc: 0.9991 - val_loss: 0.0303 - val_acc: 0.9960\n",
      "Epoch 43/50\n",
      "25s - loss: 0.0030 - acc: 0.9991 - val_loss: 0.0299 - val_acc: 0.9957\n",
      "Epoch 44/50\n",
      "25s - loss: 0.0020 - acc: 0.9994 - val_loss: 0.0303 - val_acc: 0.9957\n",
      "Epoch 45/50\n",
      "\n",
      "Epoch 00044: reducing learning rate to 1e-05.\n",
      "25s - loss: 0.0023 - acc: 0.9994 - val_loss: 0.0311 - val_acc: 0.9957\n",
      "Epoch 46/50\n",
      "25s - loss: 0.0023 - acc: 0.9992 - val_loss: 0.0303 - val_acc: 0.9957\n",
      "Epoch 47/50\n",
      "25s - loss: 0.0028 - acc: 0.9991 - val_loss: 0.0305 - val_acc: 0.9957\n",
      "Epoch 48/50\n",
      "25s - loss: 0.0027 - acc: 0.9992 - val_loss: 0.0303 - val_acc: 0.9957\n",
      "Epoch 49/50\n",
      "25s - loss: 0.0026 - acc: 0.9991 - val_loss: 0.0307 - val_acc: 0.9957\n",
      "Epoch 50/50\n",
      "25s - loss: 0.0023 - acc: 0.9992 - val_loss: 0.0312 - val_acc: 0.9955\n"
     ]
    }
   ],
   "source": [
    "#train the model\n",
    "history = model.fit(X_train, Y_train, validation_data=(X_val, Y_val), epochs=epochs, batch_size=batch_size, verbose=2, callbacks=[learning_rate_reduction])"
   ]
  },
  {
   "cell_type": "code",
   "execution_count": 16,
   "metadata": {},
   "outputs": [
    {
     "data": {
      "image/png": "[encoded data removed]",
      "text/plain": [
       "<matplotlib.figure.Figure at 0x2528633ba58>"
      ]
     },
     "metadata": {},
     "output_type": "display_data"
    }
   ],
   "source": [
    "# Plot the loss and accuracy curves for training and validation \n",
    "fig, ax = plt.subplots(2,1)\n",
    "ax[0].plot(history.history['loss'], color='b', label=\"Training loss\")\n",
    "ax[0].plot(history.history['val_loss'], color='r', label=\"validation loss\",axes =ax[0])\n",
    "legend = ax[0].legend(loc='best', shadow=True)\n",
    "\n",
    "ax[1].plot(history.history['acc'], color='b', label=\"Training accuracy\")\n",
    "ax[1].plot(history.history['val_acc'], color='r',label=\"Validation accuracy\")\n",
    "legend = ax[1].legend(loc='best', shadow=True)"
   ]
  },
  {
   "cell_type": "markdown",
   "metadata": {
    "collapsed": true
   },
   "source": [
    "Concluding our research, ConvNet model turned out to be a very good tool for this kind of problem, achieving impressive 99.57% accuracy."
   ]
  }
 ],
 "metadata": {
  "kernelspec": {
   "display_name": "Python 3",
   "language": "python",
   "name": "python3"
  },
  "language_info": {
   "codemirror_mode": {
    "name": "ipython",
    "version": 3
   },
   "file_extension": ".py",
   "mimetype": "text/x-python",
   "name": "python",
   "nbconvert_exporter": "python",
   "pygments_lexer": "ipython3",
   "version": "3.6.3"
  }
 },
 "nbformat": 4,
 "nbformat_minor": 2
}
